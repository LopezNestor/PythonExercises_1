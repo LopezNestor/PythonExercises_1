{
  "cells": [
    {
      "cell_type": "markdown",
      "metadata": {
        "id": "view-in-github",
        "colab_type": "text"
      },
      "source": [
        "<a href=\"https://colab.research.google.com/github/LopezNestor/PythonExercises_1/blob/main/TextAnalysisTool.ipynb\" target=\"_parent\"><img src=\"https://colab.research.google.com/assets/colab-badge.svg\" alt=\"Open In Colab\"/></a>"
      ]
    },
    {
      "cell_type": "code",
      "execution_count": 5,
      "metadata": {
        "id": "1ucMo655oNIC"
      },
      "outputs": [],
      "source": [
        "import re\n",
        "from collections import Counter"
      ]
    },
    {
      "cell_type": "code",
      "source": [
        "def count_words(text):\n",
        "    words = text.split()\n",
        "    return len(words)\n",
        "\n",
        "def count_sentences(text):\n",
        "    sentences = re.split(r'[.!?]', text)\n",
        "    return len(sentences)\n",
        "\n",
        "def count_paragraphs(text):\n",
        "    paragraphs = text.split('\\n\\n')\n",
        "    return len(paragraphs)\n",
        "\n",
        "def average_word_length(text):\n",
        "    words = text.split()\n",
        "    total_length = sum(len(word) for word in words)\n",
        "    return total_length / len(words)\n",
        "\n",
        "def most_common_words(text, n=10):\n",
        "    words = re.findall(r'\\b\\w+\\b', text.lower())\n",
        "    word_counts = Counter(words)\n",
        "    return word_counts.most_common(n)"
      ],
      "metadata": {
        "id": "abqu1jW-bKgV"
      },
      "execution_count": 6,
      "outputs": []
    },
    {
      "cell_type": "code",
      "source": [
        "file_name = input(\"Enter the file name (e.g., sample.txt): \")"
      ],
      "metadata": {
        "colab": {
          "base_uri": "https://localhost:8080/"
        },
        "id": "FEQMYT_RbPFQ",
        "outputId": "ff321f18-7209-47d8-d045-fd664907f32d"
      },
      "execution_count": 7,
      "outputs": [
        {
          "name": "stdout",
          "output_type": "stream",
          "text": [
            "Enter the file name (e.g., sample.txt): Prueba.txt\n"
          ]
        }
      ]
    },
    {
      "cell_type": "code",
      "source": [
        "try:\n",
        "    with open(file_name, 'r', encoding='utf-8') as file:\n",
        "        text = file.read()\n",
        "\n",
        "    word_count = count_words(text)\n",
        "    sentence_count = count_sentences(text)\n",
        "    paragraph_count = count_paragraphs(text)\n",
        "    avg_word_length = average_word_length(text)\n",
        "    common_words = most_common_words(text)\n",
        "\n",
        "    print(f\"Number of words: {word_count}\")\n",
        "    print(f\"Number of sentences: {sentence_count}\")\n",
        "    print(f\"Number of paragraphs: {paragraph_count}\")\n",
        "    print(f\"Average word length: {avg_word_length:.2f} characters\\n\")\n",
        "    print(\"Most common words:\")\n",
        "    for word, frequency in common_words:\n",
        "        print(f\"{word}: {frequency}\")\n",
        "\n",
        "except FileNotFoundError:\n",
        "    print(f\"File '{file_name}' not found. Please make sure the file exists in the current directory.\")\n",
        "except Exception as e:\n",
        "    print(f\"An error occurred: {str(e)}\")"
      ],
      "metadata": {
        "colab": {
          "base_uri": "https://localhost:8080/"
        },
        "id": "TKsWa88wbR8i",
        "outputId": "bd902a87-d063-410d-f6d9-0fd2518ef958"
      },
      "execution_count": 8,
      "outputs": [
        {
          "output_type": "stream",
          "name": "stdout",
          "text": [
            "Number of words: 257\n",
            "Number of sentences: 18\n",
            "Number of paragraphs: 1\n",
            "Average word length: 6.35 characters\n",
            "\n",
            "Most common words:\n",
            "transducers: 13\n",
            "the: 11\n",
            "in: 11\n",
            "to: 8\n",
            "or: 7\n",
            "of: 6\n",
            "electrical: 6\n",
            "a: 6\n",
            "physical: 6\n",
            "convert: 5\n"
          ]
        }
      ]
    }
  ],
  "metadata": {
    "colab": {
      "provenance": [],
      "authorship_tag": "ABX9TyOJjIJXPu/SonFfKMrDlQ7o",
      "include_colab_link": true
    },
    "kernelspec": {
      "display_name": "Python 3",
      "name": "python3"
    },
    "language_info": {
      "name": "python"
    }
  },
  "nbformat": 4,
  "nbformat_minor": 0
}