{
  "nbformat": 4,
  "nbformat_minor": 0,
  "metadata": {
    "colab": {
      "provenance": [],
      "authorship_tag": "ABX9TyNCFHDMkdRMssM4IlFgk/8B",
      "include_colab_link": true
    },
    "kernelspec": {
      "name": "python3",
      "display_name": "Python 3"
    },
    "language_info": {
      "name": "python"
    }
  },
  "cells": [
    {
      "cell_type": "markdown",
      "metadata": {
        "id": "view-in-github",
        "colab_type": "text"
      },
      "source": [
        "<a href=\"https://colab.research.google.com/github/LopezNestor/PythonExercises_1/blob/main/NumberGuessingGame.ipynb\" target=\"_parent\"><img src=\"https://colab.research.google.com/assets/colab-badge.svg\" alt=\"Open In Colab\"/></a>"
      ]
    },
    {
      "cell_type": "code",
      "execution_count": 5,
      "metadata": {
        "id": "6EYrMBi7b6OC"
      },
      "outputs": [],
      "source": [
        "import random"
      ]
    },
    {
      "cell_type": "code",
      "source": [
        "target_number = random.randint(1, 100)"
      ],
      "metadata": {
        "id": "N6UmosxyeHzT"
      },
      "execution_count": 6,
      "outputs": []
    },
    {
      "cell_type": "code",
      "source": [
        "def get_user_guess():\n",
        "    while True:\n",
        "        try:\n",
        "            guess = int(input(\"Guess the number (between 1 and 100): \"))\n",
        "            if 1 <= guess <= 100:\n",
        "                return guess\n",
        "            else:\n",
        "                print(\"Please enter a number between 1 and 100.\")\n",
        "        except ValueError:\n",
        "            print(\"Invalid input. Please enter a valid number.\")\n",
        "\n",
        "attempts = 0\n",
        "\n",
        "print(\"Welcome to the Number Guessing Game!\")\n",
        "print(\"I'm thinking of a number between 1 and 100. Try to guess it.\")"
      ],
      "metadata": {
        "colab": {
          "base_uri": "https://localhost:8080/"
        },
        "id": "bEg89hPqeLRQ",
        "outputId": "a36f4d29-b729-4c93-cafb-eb5dadd9774f"
      },
      "execution_count": 7,
      "outputs": [
        {
          "output_type": "stream",
          "name": "stdout",
          "text": [
            "Welcome to the Number Guessing Game!\n",
            "I'm thinking of a number between 1 and 100. Try to guess it.\n"
          ]
        }
      ]
    },
    {
      "cell_type": "code",
      "source": [
        "while True:\n",
        "    user_guess = get_user_guess()\n",
        "    attempts += 1\n",
        "\n",
        "    if user_guess < target_number:\n",
        "        print(\"The number is higher. Try again.\")\n",
        "    elif user_guess > target_number:\n",
        "        print(\"The number is lower. Try again.\")\n",
        "    else:\n",
        "        print(f\"Congratulations! You guessed the number {target_number} correctly in {attempts} attempts.\")\n",
        "        break"
      ],
      "metadata": {
        "id": "hd5WRKwBeQp3"
      },
      "execution_count": null,
      "outputs": []
    }
  ]
}