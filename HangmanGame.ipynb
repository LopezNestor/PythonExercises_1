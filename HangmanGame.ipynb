{
  "nbformat": 4,
  "nbformat_minor": 0,
  "metadata": {
    "colab": {
      "provenance": [],
      "authorship_tag": "ABX9TyM7z+6Mek6IUMcb0QNCp5Z3",
      "include_colab_link": true
    },
    "kernelspec": {
      "name": "python3",
      "display_name": "Python 3"
    },
    "language_info": {
      "name": "python"
    }
  },
  "cells": [
    {
      "cell_type": "markdown",
      "metadata": {
        "id": "view-in-github",
        "colab_type": "text"
      },
      "source": [
        "<a href=\"https://colab.research.google.com/github/LopezNestor/PythonExercises_1/blob/main/HangmanGame.ipynb\" target=\"_parent\"><img src=\"https://colab.research.google.com/assets/colab-badge.svg\" alt=\"Open In Colab\"/></a>"
      ]
    },
    {
      "cell_type": "code",
      "execution_count": null,
      "metadata": {
        "id": "pT1ERF5jZcgJ"
      },
      "outputs": [],
      "source": [
        "import random"
      ]
    },
    {
      "cell_type": "code",
      "source": [
        "word_list = [\"algorithm\", \"learning\", \"intelligence\", \"robot\", \"neuron\", \"network\", \"data\", \"algorithm\", \"smart\", \"learner\", \"recognition\"]"
      ],
      "metadata": {
        "id": "AQCh4W5KZii8"
      },
      "execution_count": null,
      "outputs": []
    },
    {
      "cell_type": "code",
      "source": [
        "def choose_word():\n",
        "    return random.choice(word_list)"
      ],
      "metadata": {
        "id": "FrHuneIwZlVZ"
      },
      "execution_count": null,
      "outputs": []
    },
    {
      "cell_type": "code",
      "source": [
        "def display_word(word, guessed_letters):\n",
        "    display = \"\"\n",
        "    for letter in word:\n",
        "        if letter in guessed_letters:\n",
        "            display += letter\n",
        "        else:\n",
        "            display += \"_\"\n",
        "    return display"
      ],
      "metadata": {
        "id": "-ZbSUdVlZoF0"
      },
      "execution_count": null,
      "outputs": []
    },
    {
      "cell_type": "code",
      "source": [
        "def play_hangman():\n",
        "    max_attempts = 6  # Maximum number of incorrect guesses allowed\n",
        "    word_to_guess = choose_word()\n",
        "    guessed_letters = []\n",
        "    attempts = 0\n",
        "\n",
        "    print(\"Welcome to Hangman related to Artificial Intelligence!\")\n",
        "    print(\"Guess the word. You have\", max_attempts, \"attempts.\")\n",
        "\n",
        "    while True:\n",
        "        print(\"\\nCurrent word:\", display_word(word_to_guess, guessed_letters))\n",
        "        guess = input(\"Guess a letter: \").lower()\n",
        "\n",
        "        if len(guess) != 1 or not guess.isalpha():\n",
        "            print(\"Please enter a single letter.\")\n",
        "            continue\n",
        "\n",
        "        if guess in guessed_letters:\n",
        "            print(\"You already guessed that letter.\")\n",
        "            continue\n",
        "\n",
        "        guessed_letters.append(guess)\n",
        "\n",
        "        if guess in word_to_guess:\n",
        "            print(\"Correct guess!\")\n",
        "        else:\n",
        "            print(\"Incorrect guess.\")\n",
        "            attempts += 1\n",
        "\n",
        "        if display_word(word_to_guess, guessed_letters) == word_to_guess:\n",
        "            print(\"Congratulations! You guessed the word:\", word_to_guess)\n",
        "            break\n",
        "\n",
        "        if attempts == max_attempts:\n",
        "            print(\"You ran out of attempts. The word was:\", word_to_guess)\n",
        "            break\n",
        "\n",
        "if __name__ == \"__main__\":\n",
        "    play_hangman()"
      ],
      "metadata": {
        "colab": {
          "base_uri": "https://localhost:8080/"
        },
        "id": "x-ayj8jVZrOX",
        "outputId": "64b63631-8ae2-497f-d23f-d880163615a0"
      },
      "execution_count": 16,
      "outputs": [
        {
          "output_type": "stream",
          "name": "stdout",
          "text": [
            "Welcome to Hangman related to Artificial Intelligence!\n",
            "Guess the word. You have 6 attempts.\n",
            "\n",
            "Current word: _____\n",
            "Guess a letter: o\n",
            "Correct guess!\n",
            "\n",
            "Current word: _o_o_\n",
            "Guess a letter: r\n",
            "Correct guess!\n",
            "\n",
            "Current word: ro_o_\n",
            "Guess a letter: b\n",
            "Correct guess!\n",
            "\n",
            "Current word: robo_\n",
            "Guess a letter: t\n",
            "Correct guess!\n",
            "Congratulations! You guessed the word: robot\n"
          ]
        }
      ]
    }
  ]
}